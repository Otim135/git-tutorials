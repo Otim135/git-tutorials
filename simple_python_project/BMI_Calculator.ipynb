{
 "cells": [
  {
   "cell_type": "code",
   "execution_count": null,
   "metadata": {},
   "outputs": [],
   "source": []
  },
  {
   "cell_type": "markdown",
   "metadata": {},
   "source": [
    "# BMI Calculator"
   ]
  },
  {
   "cell_type": "markdown",
   "metadata": {},
   "source": []
  },
  {
   "cell_type": "code",
   "execution_count": 3,
   "metadata": {},
   "outputs": [
    {
     "name": "stdout",
     "output_type": "stream",
     "text": [
      "Hello Alfred Otieno. Welcome to our BMI Calculation System\n"
     ]
    }
   ],
   "source": [
    "name=input(\"What is your name:\")\n",
    "print(f\"Hello {name}. Welcome to our BMI Calculation System\")"
   ]
  },
  {
   "cell_type": "code",
   "execution_count": 20,
   "metadata": {},
   "outputs": [
    {
     "name": "stdout",
     "output_type": "stream",
     "text": [
      "Your BMI is: 27.41\n",
      "Category: Overweight\n"
     ]
    }
   ],
   "source": [
    "# bmi_calculator.py\n",
    "\n",
    "# Function to calculate BMI\n",
    "def calculate_bmi(weight, height):\n",
    "    \"\"\"\n",
    "    This function calculates Body Mass Index (BMI) based on weight and height.\n",
    "    \n",
    "    Parameters:\n",
    "    weight (float): weight in kilograms\n",
    "    height (float): height in meters\n",
    "\n",
    "    Returns:\n",
    "    float: BMI value\n",
    "    \"\"\"\n",
    "    bmi = weight / (height ** 2)\n",
    "    return bmi\n",
    "\n",
    "# Function to determine BMI category\n",
    "def determine_bmi_category(bmi):\n",
    "    \"\"\"\n",
    "    This function determines the BMI category.\n",
    "    \n",
    "    Parameters:\n",
    "    bmi (float): BMI value\n",
    "\n",
    "    Returns:\n",
    "    str: BMI category\n",
    "    \"\"\"\n",
    "    if bmi < 18.5:\n",
    "        return \"Underweight\"\n",
    "    elif 18.5 <= bmi < 24.9:\n",
    "        return \"Normal weight\"\n",
    "    elif 25 <= bmi < 29.9:\n",
    "        return \"Overweight\"\n",
    "    else:\n",
    "        return \"Obesity\"\n",
    "\n",
    "# Main code to interact with the user\n",
    "try:\n",
    "    # Input weight and height from the user\n",
    "    weight = float(input(\"Enter your weight in kilograms: \"))\n",
    "    height = float(input(\"Enter your height in meters: \"))\n",
    "\n",
    "    # Calculate BMI\n",
    "    bmi = calculate_bmi(weight, height)\n",
    "\n",
    "    # Determine BMI category\n",
    "    category = determine_bmi_category(bmi)\n",
    "\n",
    "    # Display the result\n",
    "    print(f\"Your BMI is: {bmi:.2f}\")\n",
    "    print(f\"Category: {category}\")\n",
    "\n",
    "except ValueError:\n",
    "    # Handle the error if the input values are not valid numbers\n",
    "    print(\"Please enter valid numerical values for weight and height.\")\n"
   ]
  },
  {
   "cell_type": "code",
   "execution_count": null,
   "metadata": {},
   "outputs": [],
   "source": []
  }
 ],
 "metadata": {
  "kernelspec": {
   "display_name": "base",
   "language": "python",
   "name": "python3"
  },
  "language_info": {
   "codemirror_mode": {
    "name": "ipython",
    "version": 3
   },
   "file_extension": ".py",
   "mimetype": "text/x-python",
   "name": "python",
   "nbconvert_exporter": "python",
   "pygments_lexer": "ipython3",
   "version": "3.12.3"
  }
 },
 "nbformat": 4,
 "nbformat_minor": 2
}
